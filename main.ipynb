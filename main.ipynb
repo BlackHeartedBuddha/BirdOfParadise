{
 "cells": [
  {
   "cell_type": "markdown",
   "id": "08f18e30",
   "metadata": {},
   "source": [
    "# Bird of Paradise"
   ]
  },
  {
   "cell_type": "code",
   "execution_count": 1,
   "id": "1282eb47",
   "metadata": {},
   "outputs": [
    {
     "data": {
      "text/plain": [
       "'test'"
      ]
     },
     "execution_count": 1,
     "metadata": {},
     "output_type": "execute_result"
    }
   ],
   "source": [
    "test = \"test\"\n",
    "\n",
    "test"
   ]
  }
 ],
 "metadata": {
  "kernelspec": {
   "display_name": "birdofparadise",
   "language": "python",
   "name": "python3"
  },
  "language_info": {
   "codemirror_mode": {
    "name": "ipython",
    "version": 3
   },
   "file_extension": ".py",
   "mimetype": "text/x-python",
   "name": "python",
   "nbconvert_exporter": "python",
   "pygments_lexer": "ipython3",
   "version": "3.13.3"
  }
 },
 "nbformat": 4,
 "nbformat_minor": 5
}
